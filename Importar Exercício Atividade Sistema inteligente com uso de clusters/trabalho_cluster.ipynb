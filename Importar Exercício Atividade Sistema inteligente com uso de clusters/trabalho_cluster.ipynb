{
 "cells": [
  {
   "cell_type": "code",
   "execution_count": null,
   "metadata": {},
   "outputs": [],
   "source": [
    "# OBJETIVO DO NOTEBOOK\n",
    "# 1º Normalizar dados númericos e categóricos\n",
    "# 2º Caslibrar o número de grupos para o cluster (Otimização)\n",
    "# 3º Treinar o modelo de cluster \n",
    "# 4º Descrever os grupos de modelo de cluster (Centróides)\n",
    "# 5º Definir a qual grupo uma nova instância pertence\n",
    "\n",
    "###########################################\n",
    "# TRABALHO DE NORMALIZAÇÃO\n",
    "# Data Since: 07/04/2023\n",
    "# @Autor: Santian\n",
    "\n",
    "!python.exe -m pip install --upgrade pip\n",
    "!pip install pandas==1.5.2\n",
    "!pip install matplotlib\n",
    "!pip install scikit-learn"
   ]
  },
  {
   "cell_type": "code",
   "execution_count": null,
   "metadata": {},
   "outputs": [],
   "source": [
    "# Imports\n",
    "import pandas as pd\n",
    "import numpy as np\n",
    "from sklearn.preprocessing import StandardScaler\n",
    "from scipy.spatial.distance import cdist\n",
    "from matplotlib import pyplot as plt\n",
    "from sklearn.cluster import KMeans\n",
    "from sklearn import preprocessing \n",
    "from pickle import dump, load\n",
    "scaler = StandardScaler()"
   ]
  },
  {
   "attachments": {},
   "cell_type": "markdown",
   "metadata": {},
   "source": [
    "ABRE O ARQUIVO E REALIZA A LEITURA DO MESMO"
   ]
  },
  {
   "cell_type": "code",
   "execution_count": null,
   "metadata": {},
   "outputs": [],
   "source": [
    "# LE O ARQUIVO\n",
    "dataframe = pd.read_csv('codon_usage.csv\\codon_usage.csv', sep=',')\n",
    "# IMPRIME AS 5 PRIMEIRAS LINHAS\n",
    "dataframe"
   ]
  },
  {
   "cell_type": "code",
   "execution_count": null,
   "metadata": {},
   "outputs": [],
   "source": [
    "# Verifica quais colunas são categóricas\n",
    "colunas_categoricas = [coluna for coluna in dataframe.columns if dataframe[coluna].dtype == 'object']\n",
    "\n",
    "colunas_categoricas"
   ]
  },
  {
   "cell_type": "code",
   "execution_count": null,
   "metadata": {},
   "outputs": [],
   "source": [
    "normalizador = preprocessing.MinMaxScaler()\n",
    "\n",
    "# converte as colunas 'UUU' e 'UUC' para numérico, com valores inválidos convertidos para NaN\n",
    "dataframe['UUU'] = pd.to_numeric(dataframe['UUU'], errors='coerce')\n",
    "dataframe['UUC'] = pd.to_numeric(dataframe['UUC'], errors='coerce')\n",
    "\n",
    "# preenche valores faltantes com a média para colunas numéricas\n",
    "df_num = dataframe.select_dtypes(include=['float64', 'int64'])\n",
    "df_num = df_num.fillna(df_num.mean())\n",
    "\n",
    "\n",
    "# Obter o modelo normalizador e salvar para uso posterior\n",
    "modelo_normalizador = normalizador.fit(df_num) # O método fit é responsável por obter o modelo que normalizará a base \n",
    "dados_num_normalizado = normalizador.fit_transform(df_num) # Responsável por aplicar a normalização\n",
    "\n",
    "#alternativa\n",
    "dados_num_normalizado = modelo_normalizador.fit_transform(df_num)\n",
    "\n",
    "#Salvar o modelo normalizador em disco\n",
    "dump(modelo_normalizador,open('normalizador1.model','wb'))\n",
    "\n",
    "# preenche valores faltantes com a moda para colunas categóricas\n",
    "df_cat = dataframe.select_dtypes(include=['object'])\n",
    "df_cat = df_cat.fillna(df_cat.mode().iloc[0])\n",
    "\n",
    "df_num"
   ]
  },
  {
   "cell_type": "code",
   "execution_count": null,
   "metadata": {},
   "outputs": [],
   "source": [
    "# normaliza os dados numéricos\n",
    "df_num = df_num.select_dtypes(include=['float64','int64'])\n",
    "df_num = pd.DataFrame(scaler.fit_transform(df_num), columns=df_num.columns)\n",
    "\n",
    "\n",
    "# normaliza os dados categóricos\n",
    "df_cat = df_cat[['Kingdom']]\n",
    "df_cat = pd.get_dummies(df_cat)\n",
    "\n",
    "# concatena as duas partes do dataset\n",
    "dataframe = pd.concat([df_num, df_cat], axis=1)\n",
    "# imprime o dataset final\n",
    "dataframe"
   ]
  },
  {
   "cell_type": "code",
   "execution_count": null,
   "metadata": {},
   "outputs": [],
   "source": [
    "distorcoes = []\n",
    "K = range(1,101)\n",
    "for k in K: \n",
    "  modelo = KMeans(n_clusters=k,random_state=42,n_init='auto').fit(dataframe)\n",
    "  distorcoes.append(sum(np.min(cdist(dataframe, modelo.cluster_centers_, 'euclidean'), axis=1)) / dataframe.shape[0])\n",
    "  \n",
    "plt.plot(distorcoes)"
   ]
  },
  {
   "cell_type": "code",
   "execution_count": null,
   "metadata": {},
   "outputs": [],
   "source": [
    "import math\n",
    "x0 = K[0]\n",
    "y0 = distorcoes[0]\n",
    "\n",
    "x1 = K[len(K)- 1]\n",
    "y1 = distorcoes[len(distorcoes)-1]\n",
    "\n",
    "distancias = []\n",
    "for i in range(len(distorcoes)):\n",
    "  x = K[i]\n",
    "  y = distorcoes[i]\n",
    "  numerador = abs((y1-y0)*x - (x1-x0)*y + x1*y0 - y1*x0)\n",
    "  denominador = math.sqrt((y1-y0)**2 + (x1-x0)**2)\n",
    "  distancias.append(numerador/denominador)\n",
    "\n",
    "n_clusters_otimo = K[distancias.index(np.max(distancias))]\n",
    "print('Numero ideal de clusters:', K[distancias.index(np.max(distancias))])"
   ]
  },
  {
   "cell_type": "code",
   "execution_count": null,
   "metadata": {},
   "outputs": [],
   "source": [
    "#Treinar o modelo definitivo\n",
    "from pickle import dump\n",
    "modelo = KMeans(n_clusters=n_clusters_otimo,random_state=42,n_init='auto').fit(dataframe)\n",
    "\n",
    "dump(modelo,open('cluster1.modelo','wb'))"
   ]
  },
  {
   "cell_type": "code",
   "execution_count": null,
   "metadata": {},
   "outputs": [],
   "source": [
    "dados_num_desnormalizados = modelo_normalizador.inverse_transform(dados_num_normalizado)\n",
    "dados_num_desnormalizados_DF = pd.DataFrame(dados_num_desnormalizados, columns= df_num.columns)\n",
    "dados_num_desnormalizados_DF.head()"
   ]
  },
  {
   "cell_type": "code",
   "execution_count": null,
   "metadata": {},
   "outputs": [],
   "source": [
    "# dados_cat_normalizado\n",
    "df_cat.columns[0].split('_')[1]"
   ]
  },
  {
   "cell_type": "code",
   "execution_count": null,
   "metadata": {},
   "outputs": [],
   "source": [
    "dados_num_desnormalizados_DF['Sexo']= ''\n",
    "dados_num_desnormalizados_DF['Sexo'] = df_cat.apply(lambda row: 'F' if row['sexo_F'] > row['sexo_M'] else 'M', axis=1)\n",
    "dados_num_desnormalizados_DF"
   ]
  }
 ],
 "metadata": {
  "kernelspec": {
   "display_name": "Python 3",
   "language": "python",
   "name": "python3"
  },
  "language_info": {
   "codemirror_mode": {
    "name": "ipython",
    "version": 3
   },
   "file_extension": ".py",
   "mimetype": "text/x-python",
   "name": "python",
   "nbconvert_exporter": "python",
   "pygments_lexer": "ipython3",
   "version": "3.11.2"
  },
  "orig_nbformat": 4,
  "vscode": {
   "interpreter": {
    "hash": "c261aea317cc0286b3b3261fbba9abdec21eaa57589985bb7a274bf54d6cc0a7"
   }
  }
 },
 "nbformat": 4,
 "nbformat_minor": 2
}
