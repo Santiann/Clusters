{
 "cells": [
  {
   "cell_type": "code",
   "execution_count": null,
   "metadata": {},
   "outputs": [],
   "source": [
    "# OBJETIVO DO NOTEBOOK\n",
    "# 1º Normalizar dados númericos e categóricos\n",
    "# 2º Caslibrar o número de grupos para o cluster (Otimização)\n",
    "# 3º Treinar o modelo de cluster \n",
    "# 4º Descrever os grupos de modelo de cluster (Centróides)\n",
    "# 5º Definir a qual grupo uma nova instância pertence\n",
    "\n",
    "###########################################\n",
    "# TRABALHO DE NORMALIZAÇÃO\n",
    "# Data Since: 07/04/2023\n",
    "# @Autor: Santian\n",
    "\n",
    "!python.exe -m pip install --upgrade pip\n",
    "!pip install pandas==1.5.2\n",
    "!pip install matplotlib\n",
    "!pip install scikit-learn"
   ]
  },
  {
   "attachments": {},
   "cell_type": "markdown",
   "metadata": {},
   "source": [
    "ABRE O ARQUIVO E REALIZA A LEITURA DO MESMO"
   ]
  },
  {
   "cell_type": "code",
   "execution_count": null,
   "metadata": {},
   "outputs": [],
   "source": [
    "import pandas as pd\n",
    "# LE O ARQUIVO\n",
    "dataframe = pd.read_csv('codon_usage.csv\\codon_usage.csv', sep=',')\n",
    "# IMPRIME AS 5 PRIMEIRAS LINHAS\n",
    "dataframe.head()"
   ]
  },
  {
   "cell_type": "code",
   "execution_count": null,
   "metadata": {},
   "outputs": [],
   "source": []
  }
 ],
 "metadata": {
  "kernelspec": {
   "display_name": "Python 3",
   "language": "python",
   "name": "python3"
  },
  "language_info": {
   "codemirror_mode": {
    "name": "ipython",
    "version": 3
   },
   "file_extension": ".py",
   "mimetype": "text/x-python",
   "name": "python",
   "nbconvert_exporter": "python",
   "pygments_lexer": "ipython3",
   "version": "3.11.2"
  },
  "orig_nbformat": 4
 },
 "nbformat": 4,
 "nbformat_minor": 2
}
