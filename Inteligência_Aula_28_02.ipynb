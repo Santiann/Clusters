{
  "cells": [
    {
      "cell_type": "code",
      "execution_count": null,
      "metadata": {
        "colab": {
          "base_uri": "https://localhost:8080/"
        },
        "id": "s57RGQinN2wl",
        "outputId": "67bac2aa-c70c-4ae9-8574-0446c105a91a"
      },
      "outputs": [],
      "source": [
        "# OBJETIVO DO NOTEBOOK\n",
        "# 1º Normalizar dados numéricos e categóricos\n",
        "# 2º Calibrar o número de grupos para o cluster (Otimização)\n",
        "# 3º Treinar o modelo de cluster\n",
        "# 4º Descrever os grupos de modelo de cruster (Centróides)\n",
        "# 5º Definir a qual grupo uma nova intacia pertence\n",
        "\n",
        "######################################################\n",
        "# EXEMPLO DE NORMALIZAÇÃO\n",
        "# Data Since: 07/03/2023\n",
        "# @Autor: João Vitor Santian\n",
        "\n",
        "!python.exe -m pip install --upgrade pip\n",
        "\n",
        "!pip install pandas==1.5.2\n",
        "\n",
        "!pip install matplotlib\n",
        "\n",
        "!pip install scikit-learn"
      ]
    },
    {
      "cell_type": "code",
      "execution_count": null,
      "metadata": {
        "colab": {
          "base_uri": "https://localhost:8080/",
          "height": 206
        },
        "id": "MaBfszPUIhJa",
        "outputId": "873ae4fc-ee46-45ad-80f1-3b0d52f8a9eb"
      },
      "outputs": [],
      "source": [
        "import pandas as pd\n",
        "\n",
        "# Lê um arquivo CSV com cabeçalho\n",
        "dataframe = pd.read_csv('dados_normalizar.csv')\n",
        "\n",
        "# Imprime as primeiras 5 linhas do arquivo\n",
        "dataframe.head()"
      ]
    },
    {
      "cell_type": "code",
      "execution_count": null,
      "metadata": {
        "colab": {
          "base_uri": "https://localhost:8080/"
        },
        "id": "Vk07WoD1LVkc",
        "outputId": "68b1a8e5-45cd-4412-cadf-babbbd02a791"
      },
      "outputs": [],
      "source": [
        "import pandas as pd\n",
        "dataframe = pd.read_csv('dados_normalizar.csv', sep=';')\n",
        "dataframe['sexo'].value_counts()"
      ]
    },
    {
      "cell_type": "code",
      "execution_count": null,
      "metadata": {
        "colab": {
          "base_uri": "https://localhost:8080/"
        },
        "id": "dIrVLS8qOOB9",
        "outputId": "731492ec-3677-4f86-eb43-fbdefd908a0f"
      },
      "outputs": [],
      "source": [
        "# Normalizar os atributos numéricos\n",
        "dataframe['New columns'] = 0 # Criação da new column\n",
        "dataframe['n_idade'] = ( dataframe['idade'] - dataframe['idade'].min() ) / ( dataframe['idade'].max() - dataframe['idade'].min() ) # Normalizar usando a equação min/max\n",
        "dataframe[['idade','n_idade']]\n",
        "\n",
        "#Normalizar usando biblioteca pronta\n",
        "\n",
        "# Passo 1: Instalar a lib para normalização\n",
        "from sklearn import preprocessing # Biblioteca com preprocessadores\n",
        "normalizador = preprocessing.MinMaxScaler()\n",
        "\n",
        "#Passo 2: Segmentar a base, separando os atributos numéricos\n",
        "dados_num = dataframe.drop(columns  = ['sexo', 'n_idade','New columns'])\n",
        "\n",
        "#Passo 3: Obter o modelo normalizador e salvar para uso posterior\n",
        "modelo_normalizador = normalizador.fit(dados_num) # O método fit é responsável por obter o modelo que normalizará a base \n",
        "dados_num_normalizado = normalizador.fit_transform(dados_num) # Responsável por aplicar a normalização\n",
        "\n",
        "#alternativa\n",
        "dados_num_normalizado = modelo_normalizador.fit_transform(dados_num)\n",
        "\n",
        "#Salvar o modelo normalizador em disco\n",
        "from pickle import dump, load\n",
        "dump(modelo_normalizador,open('normalizador1.model','wb'))\n",
        "\n",
        "dados_num_normalizado"
      ]
    },
    {
      "cell_type": "code",
      "execution_count": null,
      "metadata": {
        "id": "HnfUn0aAlNqE"
      },
      "outputs": [],
      "source": [
        "from pandas.core.arrays.sparse import dtype\n",
        "# Normalizar dados categoricos\n",
        "\n",
        "# Passo 1: Segmentar somente os dados categóricos\n",
        "\n",
        "dados_cat = dataframe[['sexo']]\n",
        "\n",
        "# Passo 2: Normlizar com get_dummies() do pandas\n",
        "\n",
        "dados_cat_normalizado = pd.get_dummies(dados_cat)"
      ]
    },
    {
      "cell_type": "code",
      "execution_count": null,
      "metadata": {
        "colab": {
          "base_uri": "https://localhost:8080/",
          "height": 424
        },
        "id": "USt2b4-NoQd3",
        "outputId": "ce1537ea-221a-4db8-d45a-692b8c8202b7"
      },
      "outputs": [],
      "source": [
        "# Remontar o data frame\n",
        "\n",
        "# Reconstruir o data frame com os dados numéricos normalizados \n",
        "dados_num = pd.DataFrame(dados_num_normalizado, columns = dados_num.columns)\n",
        "\n",
        "# Juntar com os dados categoricos normalizados\n",
        "dataframe = dados_num.join(dados_cat_normalizado,how='left')\n",
        "dataframe"
      ]
    },
    {
      "cell_type": "code",
      "execution_count": null,
      "metadata": {
        "colab": {
          "base_uri": "https://localhost:8080/",
          "height": 286
        },
        "id": "M7el95PMh3Se",
        "outputId": "556e8182-b7c0-43c7-90b2-4f75a606303b"
      },
      "outputs": [],
      "source": [
        "# CALIBRAÇÃO DO CLUSTER\n",
        "from sklearn.cluster import KMeans\n",
        "from scipy.spatial.distance import cdist\n",
        "from matplotlib import pyplot as plt\n",
        "import numpy as np\n",
        "distorcoes = []\n",
        "K = range(1,101)\n",
        "for k in K: \n",
        "  modelo = KMeans(n_clusters=k,random_state=42,n_init='auto').fit(dataframe)\n",
        "  distorcoes.append(sum(np.min(cdist(dataframe, modelo.cluster_centers_, 'euclidean'), axis=1)) / dataframe.shape[0])\n",
        "  \n",
        "plt.plot(distorcoes)"
      ]
    },
    {
      "cell_type": "code",
      "execution_count": null,
      "metadata": {
        "colab": {
          "base_uri": "https://localhost:8080/"
        },
        "id": "rHMQ1soAiRit",
        "outputId": "1589de5d-339f-4838-8cf8-ea4781b31458"
      },
      "outputs": [],
      "source": [
        "import math\n",
        "x0 = K[0]\n",
        "y0 = distorcoes[0]\n",
        "\n",
        "x1 = K[len(K)- 1]\n",
        "y1 = distorcoes[len(distorcoes)-1]\n",
        "\n",
        "distancias = []\n",
        "for i in range(len(distorcoes)):\n",
        "  x = K[i]\n",
        "  y = distorcoes[i]\n",
        "  numerador = abs((y1-y0)*x - (x1-x0)*y + x1*y0 - y1*x0)\n",
        "  denominador = math.sqrt((y1-y0)**2 + (x1-x0)**2)\n",
        "  distancias.append(numerador/denominador)\n",
        "\n",
        "n_clusters_otimo = K[distancias.index(np.max(distancias))]\n",
        "print('Numero ideal de clusters:', K[distancias.index(np.max(distancias))])"
      ]
    },
    {
      "cell_type": "code",
      "execution_count": null,
      "metadata": {
        "id": "2vlmyoQzvfD6"
      },
      "outputs": [],
      "source": [
        "#Treinar o modelo definitivo\n",
        "from pickle import dump\n",
        "modelo = KMeans(n_clusters=n_clusters_otimo,random_state=42,n_init='auto').fit(dataframe)\n",
        "\n",
        "dump(modelo,open('cluster1.modelo','wb'))"
      ]
    },
    {
      "cell_type": "code",
      "execution_count": null,
      "metadata": {},
      "outputs": [],
      "source": [
        "dados_num_desnormalizados = modelo_normalizador.inverse_transform(dados_num_normalizado)\n",
        "dados_num_desnormalizados_DF = pd.DataFrame(dados_num_desnormalizados, columns= dados_num.columns)\n",
        "dados_num_desnormalizados_DF.head()"
      ]
    },
    {
      "cell_type": "code",
      "execution_count": null,
      "metadata": {},
      "outputs": [],
      "source": [
        "dados_cat_normalizado.columns[0].split('_')[1]\n",
        "# dados_cat_normalizado\n"
      ]
    },
    {
      "cell_type": "code",
      "execution_count": null,
      "metadata": {},
      "outputs": [],
      "source": [
        "dados_num_desnormalizados_DF['Sexo']= ''\n",
        "dados_num_desnormalizados_DF['Sexo'] = dados_cat_normalizado.apply(lambda row: 'F' if row['sexo_F'] > row['sexo_M'] else 'M', axis=1)\n",
        "dados_num_desnormalizados_DF"
      ]
    },
    {
      "cell_type": "code",
      "execution_count": null,
      "metadata": {},
      "outputs": [],
      "source": [
        "# Cria um dataframe com os novos dados\n",
        "novos_dados = pd.DataFrame({\n",
        "    'idade':  [20, 19, 14],\n",
        "    'altura': [1, 2, 1],\n",
        "    'Peso':   [65, 80, 70],\n",
        "    'sexo':   ['M', 'F', 'M']\n",
        "})\n",
        "\n",
        "# Normaliza os atributos numéricos dos novos dados\n",
        "novos_dados['idade'] = (novos_dados['idade'] - novos_dados['idade'].min()) / (novos_dados['idade'].max() - novos_dados['idade'].min())\n",
        "\n",
        "# Segmenta os dados categóricos dos novos dados\n",
        "novos_dados_cat = novos_dados[['sexo']]\n",
        "\n",
        "# Normaliza os dados categóricos dos novos dados\n",
        "novos_dados_cat_norm = pd.get_dummies(novos_dados_cat)\n",
        "\n",
        "# Remove a coluna 'sexo' dos novos dados\n",
        "novos_dados_norm = novos_dados.drop('sexo', axis=1)\n",
        "\n",
        "# Normaliza todos os atributos dos novos dados\n",
        "novos_dados_norm = pd.DataFrame(normalizador.transform(novos_dados_norm), columns=novos_dados_norm.columns)\n",
        "\n",
        "# Junta os dados numéricos e categóricos normalizados\n",
        "novos_dados_norm = novos_dados_norm.join(novos_dados_cat_norm)\n",
        "\n",
        "# Preenche as colunas não existentes com zeros\n",
        "novos_dados_norm = novos_dados_norm.fillna(0)\n",
        "\n",
        "novos_dados_norm"
      ]
    },
    {
      "cell_type": "code",
      "execution_count": null,
      "metadata": {},
      "outputs": [],
      "source": [
        "# Carrega o modelo treinado\n",
        "modelo_cluster = load(open('cluster1.model', 'rb'))\n",
        "\n",
        "# Remove as colunas 'sexo_F' e 'sexo_M' dos novos dados normalizados\n",
        "novos_dados_normalizados = novos_dados_norm.drop(columns=['sexo_F', 'sexo_M'])\n",
        "\n",
        "# Desnormaliza os dados numéricos dos novos dados\n",
        "novos_dados_desnorm = modelo_normalizador.inverse_transform(novos_dados_normalizados)\n",
        "novos_dados_desnorm_DF = pd.DataFrame(novos_dados_desnorm, columns=novos_dados_normalizados.columns)\n",
        "\n",
        "# Adiciona a coluna 'sexo' aos novos dados desnormalizados\n",
        "novos_dados_desnorm = pd.DataFrame(novos_dados_desnorm, columns=novos_dados_normalizados.columns)\n",
        "novos_dados_desnorm = pd.concat([novos_dados_desnorm, novos_dados['sexo']], axis=1)\n",
        "\n",
        "# Previsão dos clusters dos novos dados normalizados\n",
        "novos_dados_cluster = modelo_cluster.predict(novos_dados_norm)\n",
        "\n",
        "# Adiciona a coluna de clusters ao dataframe dos novos dados desnormalizados\n",
        "novos_dados_desnorm['cluster'] = novos_dados_cluster\n",
        "\n",
        "# Salva os novos dados desnormalizados com os clusters em um arquivo CSV\n",
        "novos_dados_desnorm.to_csv('novos_dados_com_clusters.csv', index=False)\n",
        "\n",
        "# Imprime os novos dados desnormalizados com seus respectivos clusters\n",
        "print(novos_dados_desnorm)\n"
      ]
    }
  ],
  "metadata": {
    "colab": {
      "provenance": []
    },
    "kernelspec": {
      "display_name": "Python 3",
      "language": "python",
      "name": "python3"
    },
    "language_info": {
      "codemirror_mode": {
        "name": "ipython",
        "version": 3
      },
      "file_extension": ".py",
      "mimetype": "text/x-python",
      "name": "python",
      "nbconvert_exporter": "python",
      "pygments_lexer": "ipython3",
      "version": "3.11.2"
    },
    "vscode": {
      "interpreter": {
        "hash": "5dbd2b0deba3607865d2c8e96c2bd2e076d129a02f18777cedc74f63118caa56"
      }
    }
  },
  "nbformat": 4,
  "nbformat_minor": 0
}
